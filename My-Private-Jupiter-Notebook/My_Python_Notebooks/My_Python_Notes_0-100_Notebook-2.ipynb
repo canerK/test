{
 "cells": [
  {
   "cell_type": "markdown",
   "metadata": {},
   "source": [
    "# 4. More Control Flow Tools¶\n",
    "\n",
    "Besides the while statement just introduced, Python knows the usual control flow statements known from other languages, with some twists.\n",
    "\n",
    "## 4.1. if Statements\n",
    "See the syntax example below, ‘elif’ is short for ‘else if’, and is useful to avoid excessive indentation.\n",
    "\n",
    "### Example 4.1.1 if Statements"
   ]
  },
  {
   "cell_type": "code",
   "execution_count": 32,
   "metadata": {},
   "outputs": [
    {
     "name": "stdout",
     "output_type": "stream",
     "text": [
      "provide an input integer42\n",
      "x is a positif integer\n",
      "x is a positif even integer\n",
      "Also x is 7k\n"
     ]
    }
   ],
   "source": [
    "## Example 4.1.1 if Statements\n",
    "x = int(input(\"provide an input integer\"))\n",
    "\n",
    "if (x==(x**2)):\n",
    "    print()\n",
    "    if x == 0:\n",
    "        print (\"x is Zero\")\n",
    "    elif (x == 0):\n",
    "        print (\"x is 1\")\n",
    "    else:\n",
    "        print(\"x is unknown\")\n",
    "elif x > 0 :\n",
    "    print (\"x is a positif integer\")\n",
    "    if x % 2==0:\n",
    "        print (\"x is a positif even integer\")\n",
    "        if x ==(7*(x//7)):\n",
    "            print(\"Also x is 7k\")\n",
    "    if x%5==0:\n",
    "        print (\"X is 5k\")\n",
    "    \n",
    "elif x < 0:\n",
    "    print(\"x is a negative integer\")"
   ]
  },
  {
   "cell_type": "markdown",
   "metadata": {},
   "source": [
    "## 4.2. for Statements\n",
    "Python’s for statement iterates over the items of any sequence (a list or a string), in the order that they appear in the sequence. For example (no pun intended):\n",
    "\n",
    "## Example 4.2.1 For Loop"
   ]
  },
  {
   "cell_type": "code",
   "execution_count": 30,
   "metadata": {},
   "outputs": [
    {
     "name": "stdout",
     "output_type": "stream",
     "text": [
      "cat 3\n",
      "dog 3\n",
      "defenestrate 12\n"
     ]
    }
   ],
   "source": [
    "words = [\"cat\",\"duck\", \"dog\",\"defenestrate\"]\n",
    "\n",
    "for w in words:\n",
    "    print (w,len(w))"
   ]
  },
  {
   "cell_type": "markdown",
   "metadata": {},
   "source": [
    "## Example 4.2.2 Modification in For Loop\n",
    "If you need to modify the sequence you are iterating over while inside the loop (for example to duplicate selected items), it is recommended that you first make a copy. Iterating over a sequence does not implicitly make a copy. The slice notation makes this especially convenient:\n"
   ]
  },
  {
   "cell_type": "code",
   "execution_count": 35,
   "metadata": {},
   "outputs": [
    {
     "data": {
      "text/plain": [
       "['defenestrate', 'defenestrate', 'defenestrate', 'cat', 'dog', 'defenestrate']"
      ]
     },
     "execution_count": 35,
     "metadata": {},
     "output_type": "execute_result"
    }
   ],
   "source": [
    "for w in words[:]:  # Loop over a slice copy of the entire list.\n",
    "    if len(w) > 6:\n",
    "        words.insert(0, w)\n",
    "words #With for w in words:, the example would attempt to create an infinite list, inserting defenestrate over and over again."
   ]
  },
  {
   "cell_type": "markdown",
   "metadata": {},
   "source": [
    "# 4.3. The range() Function\n",
    "If you do need to iterate over a sequence of numbers, the built-in function range() comes in handy. It generates arithmetic progressions:\n",
    "\n",
    "**range(a,b,c)=( [start-value , end-value) , increment/step)**\n",
    "\n",
    "### Example 4.3.1 The range() Function\n",
    "\n",
    "'>>> for i in range(5):\n",
    "\n",
    "     print(i)\n",
    "        \n",
    "0\n",
    "1\n",
    "2\n",
    "3\n",
    "4\n",
    "**observe the end point=5 is not printed** which is never part of the generated sequence; range(10) generates 10 values-up to 10, \n",
    "\n",
    "### Example 4.3.2 The range(x,y,z) return values starts at x and  end at y (exlcuded) , step/increment amount is z\n",
    "It is possible to let the range start at another number, or to specify a different increment (even negative; sometimes this is called the ‘step’):\n",
    "\n",
    "range(5, 10)\n",
    "\n",
    "   5, 6, 7, 8, 9\n",
    "\n",
    "range(0, 10, 3)\n",
    "\n",
    "   0, 3, 6, 9\n",
    "\n",
    "range(-10, -100, -30)\n",
    "\n",
    "  -10, -40, -70\n",
    "\n",
    "### Example 4.3.3 printing range() \n",
    "\n",
    "'>>> print(range(10))\n",
    " \n",
    "range(0, 10)\n",
    "\n",
    "### Example 4.3.4 range() and LIST element iterations\n",
    "\n",
    "To iterate over the indices of a sequence, you can combine range() and len() as follows:\n"
   ]
  },
  {
   "cell_type": "code",
   "execution_count": 1,
   "metadata": {},
   "outputs": [
    {
     "name": "stdout",
     "output_type": "stream",
     "text": [
      "-10\n",
      "20\n",
      "50\n",
      "80\n"
     ]
    }
   ],
   "source": [
    "for i in range(-10,100,30):\n",
    "    print(i)"
   ]
  },
  {
   "cell_type": "code",
   "execution_count": 36,
   "metadata": {},
   "outputs": [
    {
     "name": "stdout",
     "output_type": "stream",
     "text": [
      "0 Mary\n",
      "1 had\n",
      "2 a\n",
      "3 little\n",
      "4 lamb\n"
     ]
    }
   ],
   "source": [
    "### Example 4.3.3 The range() and iterations\n",
    "\n",
    "a = ['Mary', 'had', 'a', 'little', 'lamb']\n",
    "\n",
    "for i in range(len(a)):\n",
    "    print(i, a[i])\n"
   ]
  },
  {
   "cell_type": "markdown",
   "metadata": {},
   "source": [
    "### Example 4.3.4  range() and LIST element iteration\n",
    "\n",
    "In many ways the object returned by range() behaves as if it is a list, but in fact it isn’t. It is an object which returns the successive items of the desired sequence when you iterate over it, but it doesn’t really make the list, thus saving space.\n",
    "\n",
    "We say such an object is iterable, that is, suitable as a target for functions and constructs that expect something from which they can obtain successive items until the supply is exhausted. We have seen that the for statement is such an iterator. The function list() is another; it creates lists from iterables:\n",
    "\n",
    "\n",
    "'>>> list(range(5))\n",
    "\n",
    "[0, 1, 2, 3, 4]\n"
   ]
  },
  {
   "cell_type": "markdown",
   "metadata": {},
   "source": [
    "\n",
    "# 4.4. break and continue Statements, and else Clauses on Loops\n",
    "The break statement, like in C, breaks out of the innermost enclosing for or while loop.\n",
    "\n",
    "Loop statements may have an else clause; it is executed when the loop terminates through exhaustion of the list (with for) or when the condition becomes false (with while), but not when the loop is terminated by a break statement. This is exemplified by the following loop, which searches for prime numbers:\n",
    "\n",
    "### Example 4.4.1\n",
    "\n"
   ]
  },
  {
   "cell_type": "code",
   "execution_count": 2,
   "metadata": {},
   "outputs": [
    {
     "name": "stdout",
     "output_type": "stream",
     "text": [
      "n 2\n",
      "n 3\n",
      "x 2\n",
      "3 is a prime number\n",
      "n 4\n",
      "x 2\n",
      "4  =  2 * 2\n",
      "n 5\n",
      "x 2\n",
      "5 is a prime number\n",
      "x 3\n",
      "5 is a prime number\n",
      "x 4\n",
      "5 is a prime number\n",
      "n 6\n",
      "x 2\n",
      "6  =  2 * 3\n",
      "n 7\n",
      "x 2\n",
      "7 is a prime number\n",
      "x 3\n",
      "7 is a prime number\n",
      "x 4\n",
      "7 is a prime number\n",
      "x 5\n",
      "7 is a prime number\n",
      "x 6\n",
      "7 is a prime number\n",
      "n 8\n",
      "x 2\n",
      "8  =  2 * 4\n",
      "n 9\n",
      "x 2\n",
      "9 is a prime number\n",
      "x 3\n",
      "9  =  3 * 3\n"
     ]
    }
   ],
   "source": [
    "for n in range(2, 10):\n",
    "    print(\"n\",n)\n",
    "    for x in range(2, n):\n",
    "        print(\"x\",x)\n",
    "        if n % x == 0:\n",
    "            print(n, ' = ', x, '*', n//x)\n",
    "            break\n",
    "        else:\n",
    "            # loop fell through without finding a factor\n",
    "            print(n, 'is a prime number')\n"
   ]
  },
  {
   "cell_type": "markdown",
   "metadata": {},
   "source": [
    "### Example 4.4.2 try  and continue statements\n",
    "\n",
    "When used with a loop, the else clause has more in common with the else clause of a try statement than it does that of if statements: a try statement’s else clause runs when no exception occurs, and a loop’s else clause runs when no break occurs. For more on the try statement and exceptions, see Handling Exceptions.\n",
    "\n",
    "**The continue statement, the same in C, continues with the next iteration of the loop:**\n"
   ]
  },
  {
   "cell_type": "code",
   "execution_count": 4,
   "metadata": {},
   "outputs": [
    {
     "name": "stdout",
     "output_type": "stream",
     "text": [
      "Found an even number 2\n",
      "Found a number 3\n",
      "Found an even number 4\n",
      "Found a number 5\n",
      "Found an even number 6\n",
      "Found a number 7\n",
      "Found an even number 8\n",
      "Found a number 9\n"
     ]
    }
   ],
   "source": [
    "### Example 4.4.2 try statement, same as in C\n",
    "\n",
    "for num in range(2, 10):\n",
    "\n",
    "        if num % 2 == 0:\n",
    "        \n",
    "            print(\"Found an even number\", num)\n",
    "            \n",
    "            continue\n",
    "            \n",
    "        print(\"Found a number\", num)"
   ]
  },
  {
   "cell_type": "markdown",
   "metadata": {},
   "source": [
    "### Example 4.4.2 break statements"
   ]
  },
  {
   "cell_type": "code",
   "execution_count": null,
   "metadata": {},
   "outputs": [],
   "source": [
    "### Example 4.4.2 Break\n",
    "inp=int(input (\"provide a positive integer, not oo big\"))\n",
    "\n",
    "for n in range(0,inp):\n",
    "    for x in range(2,n):\n",
    "        if (n%x == 0):\n",
    "            print(n,' = ',x,'*',n//x)\n",
    "            break\n",
    "        else:\n",
    "            print(n,'is a prime number')\n",
    "            "
   ]
  },
  {
   "cell_type": "markdown",
   "metadata": {},
   "source": [
    "# 4.5. pass Statements\n",
    "\n",
    "The pass statement does nothing. It can be used when a statement is required syntactically but the program requires no action. For example:\n",
    "### Example 4.5.1   pass Statements\n"
   ]
  },
  {
   "cell_type": "code",
   "execution_count": 22,
   "metadata": {},
   "outputs": [
    {
     "name": "stdout",
     "output_type": "stream",
     "text": [
      "10 Z is 10 and the loop breaks\n"
     ]
    }
   ],
   "source": [
    "### 4.5.1 Example  pass Statements\n",
    "z=0\n",
    "\n",
    "while True:\n",
    "    pass \n",
    "    z = z+1\n",
    "    if (z==10):\n",
    "        print(z,'Z is 10 and the loop breaks')\n",
    "        break\n",
    "#This is commonly used for creating minimal classes:\n",
    "\n",
    "class MyEmptyClass:\n",
    "    pass\n",
    "\n",
    "#Another place pass can be used is as a place-holder for a function or conditional body \n",
    "#when you are working on new code, allowing you to keep thinking at a more abstract level. \n",
    "#The pass is silently ignored\n",
    "\n",
    "def initlog(*args):\n",
    "    pass   # Remember to implement this!"
   ]
  },
  {
   "cell_type": "markdown",
   "metadata": {},
   "source": [
    "# 4.6. Defining Functions\n",
    "\n",
    "A Python function can be created as shown below, which genererates the Fibonacci series to an arbitrary boundary:\n",
    "\n",
    "The def keyword declares the function followed by the name of the function name and the parenthesized list of formal input parameters. \n",
    "\n",
    "The statements will be run in the function start at the next line, and must be indented.\n",
    "\n",
    "\n",
    "### Example 4.6.1  Defining A Function\n",
    "\n",
    "In the funciton:\n",
    "\n",
    "-The statement of,  \"\"\"Print a Fibonacci series up to n.\"\"\", the function body can optionally be a string literal; this string literal is the function’s documentation string, or docstring. (More about docstrings can be found in the section Documentation Strings.) There are tools which use docstrings to automatically produce online or printed documentation, or to let the user interactively browse through code; it’s good practice to include docstrings in code that you write, so make a habit of it.\n",
    "\n",
    "-**The execution of a function introduces a new symbol table used for the local variables of the function:**\n",
    "    a, b = 0, 1\n",
    "More precisely, all variable assignments in a function store the value in the local symbol table; whereas variable references **first** look in the local symbol table, then in the local symbol tables of enclosing functions, **then** in the global symbol table, and finally in the table of built-in names. \n",
    "\n",
    "-**Thus, global variables cannot be directly assigned a value within a function (unless named in a global statement), although they may be referenced.** \n",
    "\n",
    "-**In th efunciton local object refrence and values are stored in a local symbol table, which is created when the function is called**\n",
    "The actual parameters (arguments) to a function call are introduced in the local symbol table of the called function when it is called; thus, arguments are passed using call by value (where the value is always an object reference, not the value of the object).When a function calls another function, a new local symbol table is created for that call. \n",
    "\n",
    "-**Also, local object refrence can be used in more than one function**\n",
    "a function definition introduces the function name in the current symbol table. The value of the function name has a type that is recognized by the interpreter as a user-defined function. This value can be assigned to another name which can then also be used as a function. This serves as a general renaming mechanism:\n",
    "\n",
    "\n",
    "Coming from other languages, you might say that fib is not a function but a procedure since it doesn’t return a value. \n",
    "\n",
    "In fact, In python every function return a value, even functions without a return statement returns a None value.\n",
    "\n",
    "you can use **print()**:  if you are indeed willing the value None which is  suppressed by the interpreter. \n",
    "\n"
   ]
  },
  {
   "cell_type": "code",
   "execution_count": 7,
   "metadata": {},
   "outputs": [
    {
     "name": "stdout",
     "output_type": "stream",
     "text": [
      "0 \n",
      "1 \n",
      "1 \n",
      "2 \n",
      "3 \n",
      "5 \n",
      "8 \n",
      "13 \n"
     ]
    }
   ],
   "source": [
    "#Example 4.6.A defining a function\n",
    "\n",
    "def fib(n):    # write Fibonacci series up to n\n",
    "    \"\"\"Print a Fibonacci series up to n.\"\"\"\n",
    "    a, b = 0, 1\n",
    "    while a < n:\n",
    "        print(a, end=' ')\n",
    "        a, b = b, a+b\n",
    "        print() #returns a None value as pointed above\n",
    "\n",
    "# Now call the function we just defined:\n",
    "fib(20)"
   ]
  },
  {
   "cell_type": "markdown",
   "metadata": {},
   "source": [
    "## 4.6.1 Example Function returning list of numbers , using append(a)\n",
    "\n",
    "\n",
    "It is simple to write a function that returns a list of the numbers of the Fibonacci series, instead of printing it:\n",
    "\n",
    "This example, as usual, demonstrates some new Python features:\n",
    "\n",
    "The return statement returns with a value from a function. \n",
    "    return without an expression argument returns None. \n",
    "    Falling off the end of a function also returns None.\n",
    "    \n",
    "The statement result.append(a) calls a method of the list object result. \n",
    "    A method is a function that ‘belongs’ to an object and is named obj.methodname, where obj is some object (this may be an expression), and methodname is the name of a method that is defined by the object’s type. \n",
    "    \n",
    "    Different types define different methods. Methods of different types may have the same name without causing ambiguity. (It is possible to define your own object types and methods, using classes, see Classes) The method append() shown in the example is defined for list objects; it adds a new element at the end of the list. In this example it is equivalent to result = result + [a], but more efficient."
   ]
  },
  {
   "cell_type": "code",
   "execution_count": 14,
   "metadata": {},
   "outputs": [
    {
     "data": {
      "text/plain": [
       "[0, 1, 1, 2, 3, 5, 8, 13, 21, 34, 55, 89]"
      ]
     },
     "execution_count": 14,
     "metadata": {},
     "output_type": "execute_result"
    }
   ],
   "source": [
    " ### 4.6.1 Example Function returning list of numbers , using append(a)\n",
    "def fib2(n):  # return Fibonacci series up to n\n",
    "        \"\"\"Return a list containing the Fibonacci series up to n.\"\"\"\n",
    "        result = []\n",
    "        a, b = 0, 1\n",
    "        while a < n:\n",
    "            result.append(a)    # see below\n",
    "            a, b = b, a+b\n",
    "        return result\n",
    "\n",
    "\n",
    "f100 = fib2(100)    # call it\n",
    "f100                # write the result"
   ]
  },
  {
   "cell_type": "markdown",
   "metadata": {},
   "source": [
    "# 4.7. More on Defining Functions\n",
    "It is also possible to define functions with a variable number of arguments. There are three forms, which can be combined.\n",
    "\n",
    "## 4.7.1. Functions with Default Argument Values\n",
    "The most useful form is to specify a default value for one or more arguments. This creates a function that can be called with fewer arguments than it is defined to allow. For example:\n",
    "\n",
    "\n",
    "### Example 4.7.1 Default Argument Values\n",
    "\n",
    "The function ask_ok below can be called in several ways:\n",
    "\n",
    "1-giving only the mandatory argument: ask_ok('Do you really want to quit?')\n",
    "2-giving one of the optional arguments: ask_ok('OK to overwrite the file?', 2)\n",
    "3-or even giving all arguments: ask_ok('OK to overwrite the file?', 2, 'Come on, only yes or no!')\n",
    "\n",
    "This example also introduces the in keyword. This tests whether or not a sequence contains a certain value.\n"
   ]
  },
  {
   "cell_type": "code",
   "execution_count": 23,
   "metadata": {},
   "outputs": [],
   "source": [
    "### Example 4.7.1 Default Argument Values\n",
    "\n",
    "def ask_ok(prompt, retries=4, reminder='Please try again!'):\n",
    "    while True:\n",
    "        ok = input(prompt)\n",
    "        if ok in ('y', 'ye', 'yes'):\n",
    "            return True\n",
    "        if ok in ('n', 'no', 'nop', 'nope'):\n",
    "            return False\n",
    "        retries = retries - 1\n",
    "        if retries < 0:\n",
    "            raise ValueError('invalid user response')\n",
    "        print(reminder)"
   ]
  },
  {
   "cell_type": "markdown",
   "metadata": {},
   "source": [
    "### Example 4.7.1.1 Functions with Default Argument Values\n",
    "\n",
    "The default values are evaluated at the point of function definition in the defining scope, so that\n",
    "See that the funciton below will print out 5,** not 7**\n",
    "\n",
    "This is because of that the default value is evaluated only once. This makes a difference when the default is a mutable object such as a list, dictionary, or instances of most classes. For instance on Example 4.7.1.2, the following function accumulates the arguments passed to it on subsequent calls:"
   ]
  },
  {
   "cell_type": "code",
   "execution_count": 27,
   "metadata": {},
   "outputs": [
    {
     "name": "stdout",
     "output_type": "stream",
     "text": [
      "5\n"
     ]
    }
   ],
   "source": [
    "### Example 4.7.1.2 \n",
    "i = 5\n",
    "\n",
    "def f(arg=i):\n",
    "    print(arg)\n",
    "\n",
    "i=7\n",
    "f()"
   ]
  },
  {
   "cell_type": "markdown",
   "metadata": {},
   "source": [
    "### Example 4.7.1.2 Functions with \"Default Argument is a list\"\n",
    "\n",
    "The default values are evaluated at the point of function definition in the defining scope, so that\n"
   ]
  },
  {
   "cell_type": "code",
   "execution_count": 28,
   "metadata": {},
   "outputs": [
    {
     "name": "stdout",
     "output_type": "stream",
     "text": [
      "[1]\n",
      "[1, 2]\n",
      "[1, 2, 3]\n"
     ]
    }
   ],
   "source": [
    "### Example 4.7.1.2\n",
    "\n",
    "def f(a, L=[]):\n",
    "    L.append(a)\n",
    "    return L\n",
    "\n",
    "print(f(1))\n",
    "print(f(2))\n",
    "print(f(3))"
   ]
  },
  {
   "cell_type": "markdown",
   "metadata": {},
   "source": [
    "### Example 4.7.1.2  Avoid accumulating of arguments\n",
    "\n",
    "to avoid the default to be shared between subsequent calls, you can write the function like this instead:\n"
   ]
  },
  {
   "cell_type": "code",
   "execution_count": 30,
   "metadata": {},
   "outputs": [
    {
     "name": "stdout",
     "output_type": "stream",
     "text": [
      "[1]\n",
      "[2]\n",
      "[3]\n"
     ]
    }
   ],
   "source": [
    "### Example 4.7.1.2  Avoid accumulating of arguments\n",
    "\n",
    "def f(a, L=None):\n",
    "    if L is None:\n",
    "        L = []\n",
    "    L.append(a)\n",
    "    return L\n",
    "\n",
    "print(f(1))\n",
    "print(f(2))\n",
    "print(f(3))"
   ]
  },
  {
   "cell_type": "markdown",
   "metadata": {},
   "source": [
    "\n",
    "\n",
    "## 4.7.2. Keyword Arguments\n",
    "Functions can also be called using keyword arguments of the form kwarg=value. For instance, the following function:\n",
    "\n",
    "### Example 4.7.2. Keyword Arguments\n",
    "\n",
    "\n",
    "\n",
    "**In a function call, keyword arguments must follow positional arguments.** \n",
    "\n",
    "All the keyword arguments passed must match one of the arguments accepted by the function (e.g. actor is not a valid argument for the parrot function), and their order is not important. This also includes non-optional arguments (e.g. parrot(voltage=1000) is valid too). No argument may receive a value more than once. Here’s an example that fails due to this restriction:\n"
   ]
  },
  {
   "cell_type": "code",
   "execution_count": 38,
   "metadata": {},
   "outputs": [
    {
     "name": "stdout",
     "output_type": "stream",
     "text": [
      "-- This parrot wouldn't voom if you put 1000 volts through it.\n",
      "-- Lovely plumage, the Norwegian Blue\n",
      "-- It's a stiff !\n",
      "-- This parrot wouldn't voom if you put 1000 volts through it.\n",
      "-- Lovely plumage, the Norwegian Blue\n",
      "-- It's a stiff !\n",
      "-- This parrot wouldn't VOOOOOM if you put 1000000 volts through it.\n",
      "-- Lovely plumage, the Norwegian Blue\n",
      "-- It's a stiff !\n",
      "-- This parrot wouldn't VOOOOOM if you put 1000000 volts through it.\n",
      "-- Lovely plumage, the Norwegian Blue\n",
      "-- It's a stiff !\n",
      "-- This parrot wouldn't jump if you put a million volts through it.\n",
      "-- Lovely plumage, the Norwegian Blue\n",
      "-- It's bereft of life !\n",
      "-- This parrot wouldn't voom if you put a thousand volts through it.\n",
      "-- Lovely plumage, the Norwegian Blue\n",
      "-- It's pushing up the daisies !\n"
     ]
    }
   ],
   "source": [
    "\n",
    "def parrot(voltage, state='a stiff', action='voom', type='Norwegian Blue'):\n",
    "    print(\"-- This parrot wouldn't\", action, end=' ')\n",
    "    print(\"if you put\", voltage, \"volts through it.\")\n",
    "    print(\"-- Lovely plumage, the\", type)\n",
    "    print(\"-- It's\", state, \"!\")\n",
    "#accepts one required argument (voltage) and three optional arguments (state, action, and type). \n",
    "#This function can be called in any of the following ways:\n",
    "\n",
    "\n",
    "\n",
    "parrot(1000)                                          # 1 positional argument\n",
    "parrot(voltage=1000)                                  # 1 keyword argument\n",
    "parrot(voltage=1000000, action='VOOOOOM')             # 2 keyword arguments\n",
    "parrot(action='VOOOOOM', voltage=1000000)             # 2 keyword arguments\n",
    "parrot('a million', 'bereft of life', 'jump')         # 3 positional arguments\n",
    "parrot('a thousand', state='pushing up the daisies')  # 1 positional, 1 keyword\n",
    "#but all the following calls would be invalid:\n",
    "\n",
    "# this line 21 triggers error\n",
    "#parrot()                     # required argument missing\n",
    "\n",
    "# this line 22 triggers error\n",
    "#parrot(voltage=5.0,'dead')   # non-keyword argument after a keyword argument\n",
    "\n",
    "# this line 26 triggers error\n",
    "#parrot(110, voltage=220)     # duplicate value for the same argument\n",
    "\n",
    "# this line 29 triggers error\n",
    "#parrot(actor='John Cleese')  # unknown keyword argument\n",
    "\n"
   ]
  },
  {
   "cell_type": "markdown",
   "metadata": {},
   "source": [
    "\n",
    "### Example 4.7.3. Keyword Arguments\n",
    "\n",
    "\n",
    ">>>\n",
    ">>> def function(a):\n",
    "...     pass\n",
    "...\n",
    ">>> function(0, a=0)\n",
    "Traceback (most recent call last):\n",
    "  File \"<stdin>\", line 1, in <module>\n",
    "\n",
    "TypeError: function() got multiple values for keyword argument 'a'\n",
    "When a final formal parameter of the form **name is present, it receives a dictionary (see Mapping Types — dict) containing all keyword arguments except for those corresponding to a formal parameter. This may be combined with a formal parameter of the form *name (described in the next subsection) which receives a tuple containing the positional arguments beyond the formal parameter list. (*name must occur before **name.) For example, if we define a function like this:\n",
    "\n"
   ]
  },
  {
   "cell_type": "code",
   "execution_count": 1,
   "metadata": {},
   "outputs": [
    {
     "name": "stdout",
     "output_type": "stream",
     "text": [
      "-- Do you have any Limburger ?\n",
      "-- I'm sorry, we're all out of Limburger\n",
      "It's very runny, sir.\n",
      "It's really very, VERY runny, sir.\n",
      "----------------------------------------\n",
      "shopkeeper : Michael Palin\n",
      "client : John Cleese\n",
      "sketch : Cheese Shop Sketch\n"
     ]
    }
   ],
   "source": [
    "### Example 4.7.3. Keyword Arguments\n",
    "\n",
    "\n",
    "def cheeseshop(kind, *arguments, **keywords):\n",
    "    print(\"-- Do you have any\", kind, \"?\")\n",
    "    print(\"-- I'm sorry, we're all out of\", kind)\n",
    "    for arg in arguments:\n",
    "        print(arg)\n",
    "    print(\"-\" * 40)\n",
    "    for kw in keywords:\n",
    "        print(kw, \":\", keywords[kw])\n",
    "\n",
    "cheeseshop(\"Limburger\", \"It's very runny, sir.\",\n",
    "           \"It's really very, VERY runny, sir.\",\n",
    "           shopkeeper=\"Michael Palin\",\n",
    "           client=\"John Cleese\",\n",
    "           sketch=\"Cheese Shop Sketch\")\n",
    "\n"
   ]
  },
  {
   "cell_type": "markdown",
   "metadata": {},
   "source": [
    "\n",
    "## 4.7.3. Arbitrary Argument Lists\n",
    "Finally, the least frequently used option is to specify that a function can be called with an arbitrary number of arguments. These arguments will be wrapped up in a tuple (see Tuples and Sequences). Before the variable number of arguments, zero or more normal arguments may occur.\n",
    "\n",
    "def write_multiple_items(file, separator, *args):\n",
    "    file.write(separator.join(args))\n",
    "Normally, these variadic arguments will be last in the list of formal parameters, because they scoop up all remaining input arguments that are passed to the function. Any formal parameters which occur after the *args parameter are ‘keyword-only’ arguments, meaning that they can only be used as keywords rather than positional arguments.\n",
    "\n",
    "\n",
    "### Example 4.7.3. Arbitrary Argument Lists\n",
    "\n",
    "\n"
   ]
  },
  {
   "cell_type": "code",
   "execution_count": 5,
   "metadata": {},
   "outputs": [
    {
     "data": {
      "text/plain": [
       "'earth/mars/venus'"
      ]
     },
     "execution_count": 5,
     "metadata": {},
     "output_type": "execute_result"
    }
   ],
   "source": [
    "### Example 4.7.3. Arbitrary Argument Lists\n",
    "\n",
    "\n",
    "def concat(*args, sep=\"/\"):\n",
    "    return sep.join(args)\n",
    "\n",
    "concat(\"earth\", \"mars\", \"venus\")\n",
    "\n",
    "\n",
    "#or concat(\"earth\", \"mars\", \"venus\", sep=\".\")\n"
   ]
  },
  {
   "cell_type": "markdown",
   "metadata": {},
   "source": [
    "### 4.7.4. Unpacking Argument Lists\n",
    "The reverse situation occurs when the arguments are already in a list or tuple but need to be unpacked for a function call requiring separate positional arguments. For instance, the built-in range() function expects separate start and stop arguments. If they are not available separately, write the function call with the *-operator to unpack the arguments out of a list or tuple:\n",
    "\n",
    "\n",
    ">>>\n",
    ">>> list(range(3, 6))            # normal call with separate arguments\n",
    "[3, 4, 5]\n",
    ">>> args = [3, 6]\n",
    ">>> list(range(*args))            # call with arguments unpacked from a list\n",
    "[3, 4, 5]\n",
    "In the same fashion, dictionaries can deliver keyword arguments with the **-operator:\n",
    "\n",
    ">>>\n",
    ">>> def parrot(voltage, state='a stiff', action='voom'):\n",
    "...     print(\"-- This parrot wouldn't\", action, end=' ')\n",
    "...     print(\"if you put\", voltage, \"volts through it.\", end=' ')\n",
    "...     print(\"E's\", state, \"!\")\n",
    "...\n",
    ">>> d = {\"voltage\": \"four million\", \"state\": \"bleedin' demised\", \"action\": \"VOOM\"}\n",
    ">>> parrot(**d)\n",
    "-- This parrot wouldn't VOOM if you put four million volts through it. E's bleedin' demised !\n",
    "\n",
    "\n"
   ]
  },
  {
   "cell_type": "code",
   "execution_count": null,
   "metadata": {},
   "outputs": [],
   "source": []
  },
  {
   "cell_type": "markdown",
   "metadata": {},
   "source": []
  },
  {
   "cell_type": "markdown",
   "metadata": {},
   "source": [
    "\n",
    "### 4.7.5. Lambda Expressions\n",
    "Small anonymous functions can be created with the lambda keyword. This function returns the sum of its two arguments: lambda a, b: a+b. Lambda functions can be used wherever function objects are required. They are syntactically restricted to a single expression. Semantically, they are just syntactic sugar for a normal function definition. Like nested function definitions, lambda functions can reference variables from the containing scope:\n",
    "\n",
    ">>>\n",
    ">>> def make_incrementor(n):\n",
    "...     return lambda x: x + n\n",
    "...\n",
    ">>> f = make_incrementor(42)\n",
    ">>> f(0)\n",
    "42\n",
    ">>> f(1)\n",
    "43\n",
    "The above example uses a lambda expression to return a function. Another use is to pass a small function as an argument:\n",
    "\n",
    ">>>\n",
    ">>> pairs = [(1, 'one'), (2, 'two'), (3, 'three'), (4, 'four')]\n",
    ">>> pairs.sort(key=lambda pair: pair[1])\n",
    ">>> pairs\n",
    "[(4, 'four'), (1, 'one'), (3, 'three'), (2, 'two')]\n",
    "4.7.6. Documentation Strings\n",
    "Here are some conventions about the content and formatting of documentation strings.\n",
    "\n",
    "The first line should always be a short, concise summary of the object’s purpose. For brevity, it should not explicitly state the object’s name or type, since these are available by other means (except if the name happens to be a verb describing a function’s operation). This line should begin with a capital letter and end with a period.\n",
    "\n",
    "If there are more lines in the documentation string, the second line should be blank, visually separating the summary from the rest of the description. The following lines should be one or more paragraphs describing the object’s calling conventions, its side effects, etc.\n",
    "\n",
    "The Python parser does not strip indentation from multi-line string literals in Python, so tools that process documentation have to strip indentation if desired. This is done using the following convention. The first non-blank line after the first line of the string determines the amount of indentation for the entire documentation string. (We can’t use the first line since it is generally adjacent to the string’s opening quotes so its indentation is not apparent in the string literal.) Whitespace “equivalent” to this indentation is then stripped from the start of all lines of the string. Lines that are indented less should not occur, but if they occur all their leading whitespace should be stripped. Equivalence of whitespace should be tested after expansion of tabs (to 8 spaces, normally).\n",
    "\n",
    "Here is an example of a multi-line docstring:\n",
    "\n",
    ">>>\n",
    ">>> def my_function():\n",
    "...     \"\"\"Do nothing, but document it.\n",
    "...\n",
    "...     No, really, it doesn't do anything.\n",
    "...     \"\"\"\n",
    "...     pass\n",
    "...\n",
    ">>> print(my_function.__doc__)\n",
    "Do nothing, but document it.\n",
    "\n",
    "    No, really, it doesn't do anything.\n",
    "\n"
   ]
  },
  {
   "cell_type": "code",
   "execution_count": null,
   "metadata": {},
   "outputs": [],
   "source": []
  },
  {
   "cell_type": "markdown",
   "metadata": {},
   "source": [
    "### 4.7.7. Function Annotations\n",
    "Function annotations are completely optional metadata information about the types used by user-defined functions (see PEP 3107 and PEP 484 for more information).\n",
    "\n",
    "Annotations are stored in the __annotations__ attribute of the function as a dictionary and have no effect on any other part of the function. Parameter annotations are defined by a colon after the parameter name, followed by an expression evaluating to the value of the annotation. Return annotations are defined by a literal ->, followed by an expression, between the parameter list and the colon denoting the end of the def statement. The following example has a positional argument, a keyword argument, and the return value annotated:\n",
    "\n",
    ">>>\n",
    ">>> def f(ham: str, eggs: str = 'eggs') -> str:\n",
    "...     print(\"Annotations:\", f.__annotations__)\n",
    "...     print(\"Arguments:\", ham, eggs)\n",
    "...     return ham + ' and ' + eggs\n",
    "...\n",
    ">>> f('spam')\n",
    "Annotations: {'ham': <class 'str'>, 'return': <class 'str'>, 'eggs': <class 'str'>}\n",
    "Arguments: spam eggs\n",
    "'spam and eggs'\n",
    "4.8. Intermezzo: Coding Style\n",
    "Now that you are about to write longer, more complex pieces of Python, it is a good time to talk about coding style. Most languages can be written (or more concise, formatted) in different styles; some are more readable than others. Making it easy for others to read your code is always a good idea, and adopting a nice coding style helps tremendously for that.\n",
    "\n",
    "For Python, PEP 8 has emerged as the style guide that most projects adhere to; it promotes a very readable and eye-pleasing coding style. Every Python developer should read it at some point; here are the most important points extracted for you:\n",
    "\n",
    "Use 4-space indentation, and no tabs.\n",
    "\n",
    "4 spaces are a good compromise between small indentation (allows greater nesting depth) and large indentation (easier to read). Tabs introduce confusion, and are best left out.\n",
    "\n",
    "Wrap lines so that they don’t exceed 79 characters.\n",
    "\n",
    "This helps users with small displays and makes it possible to have several code files side-by-side on larger displays.\n",
    "\n",
    "Use blank lines to separate functions and classes, and larger blocks of code inside functions.\n",
    "\n",
    "When possible, put comments on a line of their own.\n",
    "\n",
    "Use docstrings.\n",
    "\n",
    "Use spaces around operators and after commas, but not directly inside bracketing constructs: a = f(1, 2) + g(3, 4).\n",
    "\n",
    "Name your classes and functions consistently; the convention is to use CamelCase for classes and lower_case_with_underscores for functions and methods. Always use self as the name for the first method argument (see A First Look at Classes for more on classes and methods).\n",
    "\n",
    "Don’t use fancy encodings if your code is meant to be used in international environments. Python’s default, UTF-8, or even plain ASCII work best in any case.\n",
    "\n",
    "Likewise, don’t use non-ASCII characters in identifiers if there is only the slightest chance people speaking a different language will read or maintain the code."
   ]
  },
  {
   "cell_type": "code",
   "execution_count": null,
   "metadata": {},
   "outputs": [],
   "source": []
  }
 ],
 "metadata": {
  "kernelspec": {
   "display_name": "Python 3",
   "language": "python",
   "name": "python3"
  },
  "language_info": {
   "codemirror_mode": {
    "name": "ipython",
    "version": 3
   },
   "file_extension": ".py",
   "mimetype": "text/x-python",
   "name": "python",
   "nbconvert_exporter": "python",
   "pygments_lexer": "ipython3",
   "version": "3.6.4"
  }
 },
 "nbformat": 4,
 "nbformat_minor": 2
}
